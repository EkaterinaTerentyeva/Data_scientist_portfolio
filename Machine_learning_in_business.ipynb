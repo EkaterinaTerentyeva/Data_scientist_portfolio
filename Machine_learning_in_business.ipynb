{
 "cells": [
  {
   "cell_type": "markdown",
   "id": "ddd64803",
   "metadata": {},
   "source": [
    "**MACHINE LEARNING IN BUSINESS** \n",
    "\n",
    "**Objective** - find the best place for a new well.\n",
    "\n",
    "Steps to choose the location:\n",
    "\n",
    "- Collect the oil well parameters in the selected region: oil quality and volume of reserves;\n",
    "- Build a model for predicting the volume of reserves in the new wells;\n",
    "- Pick the oil wells with the highest estimated values;\n",
    "- Pick the region with the highest total profit for the selected oil wells.\n",
    "\n",
    "You have data on oil samples from three regions. Parameters of each oil well in the region are already known. Build a model that will help to pick the region with the highest profit margin. Analyze potential profit and risks using the Bootstrapping technique.\n",
    "\n",
    "\n",
    "\n",
    "**Data sources**\n",
    "\n",
    "- 3 csv files for 3 regions\n",
    "- id — unique oil well identifier\n",
    "- f0, f1, f2 — three features of points (their specific meaning is unimportant, but the features themselves are significant)\n",
    "- product — volume of reserves in the oil well (thousand barrels).\n",
    "\n"
   ]
  },
  {
   "cell_type": "code",
   "execution_count": 1,
   "id": "ca0b830f",
   "metadata": {},
   "outputs": [],
   "source": [
    "import pandas as pd\n",
    "from sklearn.preprocessing import StandardScaler\n",
    "from sklearn.linear_model import LinearRegression\n",
    "from sklearn.model_selection import train_test_split\n",
    "from sklearn.metrics import mean_squared_error\n",
    "import numpy as np"
   ]
  },
  {
   "cell_type": "code",
   "execution_count": 2,
   "id": "f80b896c",
   "metadata": {},
   "outputs": [],
   "source": [
    "df0 = pd.read_csv('geo_data_0.csv')\n",
    "df1 = pd.read_csv('geo_data_1.csv')\n",
    "df2 = pd.read_csv('geo_data_2.csv')"
   ]
  },
  {
   "cell_type": "markdown",
   "id": "327a1685",
   "metadata": {},
   "source": [
    "**PRIMARY DATA PREPROCESSING**"
   ]
  },
  {
   "cell_type": "code",
   "execution_count": 10,
   "id": "3f472512",
   "metadata": {},
   "outputs": [],
   "source": [
    "def get_info(df):\n",
    "    print(f'Number of duplicates = {df.duplicated().sum()}')\n",
    "    print('Distribution of features')\n",
    "    display(df.describe())\n",
    "    print('Missing values')\n",
    "    display(df.isna().sum())\n",
    "    print('Product distribution')\n",
    "    df['product'].plot(kind = 'hist', bins = 10)"
   ]
  },
  {
   "cell_type": "code",
   "execution_count": 11,
   "id": "f38890b7",
   "metadata": {},
   "outputs": [
    {
     "name": "stdout",
     "output_type": "stream",
     "text": [
      "Number of duplicates = 0\n",
      "Distribution of features\n"
     ]
    },
    {
     "data": {
      "text/html": [
       "<div>\n",
       "<style scoped>\n",
       "    .dataframe tbody tr th:only-of-type {\n",
       "        vertical-align: middle;\n",
       "    }\n",
       "\n",
       "    .dataframe tbody tr th {\n",
       "        vertical-align: top;\n",
       "    }\n",
       "\n",
       "    .dataframe thead th {\n",
       "        text-align: right;\n",
       "    }\n",
       "</style>\n",
       "<table border=\"1\" class=\"dataframe\">\n",
       "  <thead>\n",
       "    <tr style=\"text-align: right;\">\n",
       "      <th></th>\n",
       "      <th>f0</th>\n",
       "      <th>f1</th>\n",
       "      <th>f2</th>\n",
       "      <th>product</th>\n",
       "    </tr>\n",
       "  </thead>\n",
       "  <tbody>\n",
       "    <tr>\n",
       "      <th>count</th>\n",
       "      <td>100000.000000</td>\n",
       "      <td>100000.000000</td>\n",
       "      <td>100000.000000</td>\n",
       "      <td>100000.000000</td>\n",
       "    </tr>\n",
       "    <tr>\n",
       "      <th>mean</th>\n",
       "      <td>0.500419</td>\n",
       "      <td>0.250143</td>\n",
       "      <td>2.502647</td>\n",
       "      <td>92.500000</td>\n",
       "    </tr>\n",
       "    <tr>\n",
       "      <th>std</th>\n",
       "      <td>0.871832</td>\n",
       "      <td>0.504433</td>\n",
       "      <td>3.248248</td>\n",
       "      <td>44.288691</td>\n",
       "    </tr>\n",
       "    <tr>\n",
       "      <th>min</th>\n",
       "      <td>-1.408605</td>\n",
       "      <td>-0.848218</td>\n",
       "      <td>-12.088328</td>\n",
       "      <td>0.000000</td>\n",
       "    </tr>\n",
       "    <tr>\n",
       "      <th>25%</th>\n",
       "      <td>-0.072580</td>\n",
       "      <td>-0.200881</td>\n",
       "      <td>0.287748</td>\n",
       "      <td>56.497507</td>\n",
       "    </tr>\n",
       "    <tr>\n",
       "      <th>50%</th>\n",
       "      <td>0.502360</td>\n",
       "      <td>0.250252</td>\n",
       "      <td>2.515969</td>\n",
       "      <td>91.849972</td>\n",
       "    </tr>\n",
       "    <tr>\n",
       "      <th>75%</th>\n",
       "      <td>1.073581</td>\n",
       "      <td>0.700646</td>\n",
       "      <td>4.715088</td>\n",
       "      <td>128.564089</td>\n",
       "    </tr>\n",
       "    <tr>\n",
       "      <th>max</th>\n",
       "      <td>2.362331</td>\n",
       "      <td>1.343769</td>\n",
       "      <td>16.003790</td>\n",
       "      <td>185.364347</td>\n",
       "    </tr>\n",
       "  </tbody>\n",
       "</table>\n",
       "</div>"
      ],
      "text/plain": [
       "                  f0             f1             f2        product\n",
       "count  100000.000000  100000.000000  100000.000000  100000.000000\n",
       "mean        0.500419       0.250143       2.502647      92.500000\n",
       "std         0.871832       0.504433       3.248248      44.288691\n",
       "min        -1.408605      -0.848218     -12.088328       0.000000\n",
       "25%        -0.072580      -0.200881       0.287748      56.497507\n",
       "50%         0.502360       0.250252       2.515969      91.849972\n",
       "75%         1.073581       0.700646       4.715088     128.564089\n",
       "max         2.362331       1.343769      16.003790     185.364347"
      ]
     },
     "metadata": {},
     "output_type": "display_data"
    },
    {
     "name": "stdout",
     "output_type": "stream",
     "text": [
      "Missing values\n"
     ]
    },
    {
     "data": {
      "text/plain": [
       "id         0\n",
       "f0         0\n",
       "f1         0\n",
       "f2         0\n",
       "product    0\n",
       "dtype: int64"
      ]
     },
     "metadata": {},
     "output_type": "display_data"
    },
    {
     "name": "stdout",
     "output_type": "stream",
     "text": [
      "Product distribution\n"
     ]
    },
    {
     "data": {
      "image/png": "[encoded data removed]",
      "text/plain": [
       "<Figure size 432x288 with 1 Axes>"
      ]
     },
     "metadata": {
      "needs_background": "light"
     },
     "output_type": "display_data"
    }
   ],
   "source": [
    "get_info(df0)"
   ]
  },
  {
   "cell_type": "code",
   "execution_count": 12,
   "id": "0a815089",
   "metadata": {},
   "outputs": [
    {
     "name": "stdout",
     "output_type": "stream",
     "text": [
      "Number of duplicates = 0\n",
      "Distribution of features\n"
     ]
    },
    {
     "data": {
      "text/html": [
       "<div>\n",
       "<style scoped>\n",
       "    .dataframe tbody tr th:only-of-type {\n",
       "        vertical-align: middle;\n",
       "    }\n",
       "\n",
       "    .dataframe tbody tr th {\n",
       "        vertical-align: top;\n",
       "    }\n",
       "\n",
       "    .dataframe thead th {\n",
       "        text-align: right;\n",
       "    }\n",
       "</style>\n",
       "<table border=\"1\" class=\"dataframe\">\n",
       "  <thead>\n",
       "    <tr style=\"text-align: right;\">\n",
       "      <th></th>\n",
       "      <th>f0</th>\n",
       "      <th>f1</th>\n",
       "      <th>f2</th>\n",
       "      <th>product</th>\n",
       "    </tr>\n",
       "  </thead>\n",
       "  <tbody>\n",
       "    <tr>\n",
       "      <th>count</th>\n",
       "      <td>100000.000000</td>\n",
       "      <td>100000.000000</td>\n",
       "      <td>100000.000000</td>\n",
       "      <td>100000.000000</td>\n",
       "    </tr>\n",
       "    <tr>\n",
       "      <th>mean</th>\n",
       "      <td>1.141296</td>\n",
       "      <td>-4.796579</td>\n",
       "      <td>2.494541</td>\n",
       "      <td>68.825000</td>\n",
       "    </tr>\n",
       "    <tr>\n",
       "      <th>std</th>\n",
       "      <td>8.965932</td>\n",
       "      <td>5.119872</td>\n",
       "      <td>1.703572</td>\n",
       "      <td>45.944423</td>\n",
       "    </tr>\n",
       "    <tr>\n",
       "      <th>min</th>\n",
       "      <td>-31.609576</td>\n",
       "      <td>-26.358598</td>\n",
       "      <td>-0.018144</td>\n",
       "      <td>0.000000</td>\n",
       "    </tr>\n",
       "    <tr>\n",
       "      <th>25%</th>\n",
       "      <td>-6.298551</td>\n",
       "      <td>-8.267985</td>\n",
       "      <td>1.000021</td>\n",
       "      <td>26.953261</td>\n",
       "    </tr>\n",
       "    <tr>\n",
       "      <th>50%</th>\n",
       "      <td>1.153055</td>\n",
       "      <td>-4.813172</td>\n",
       "      <td>2.011479</td>\n",
       "      <td>57.085625</td>\n",
       "    </tr>\n",
       "    <tr>\n",
       "      <th>75%</th>\n",
       "      <td>8.621015</td>\n",
       "      <td>-1.332816</td>\n",
       "      <td>3.999904</td>\n",
       "      <td>107.813044</td>\n",
       "    </tr>\n",
       "    <tr>\n",
       "      <th>max</th>\n",
       "      <td>29.421755</td>\n",
       "      <td>18.734063</td>\n",
       "      <td>5.019721</td>\n",
       "      <td>137.945408</td>\n",
       "    </tr>\n",
       "  </tbody>\n",
       "</table>\n",
       "</div>"
      ],
      "text/plain": [
       "                  f0             f1             f2        product\n",
       "count  100000.000000  100000.000000  100000.000000  100000.000000\n",
       "mean        1.141296      -4.796579       2.494541      68.825000\n",
       "std         8.965932       5.119872       1.703572      45.944423\n",
       "min       -31.609576     -26.358598      -0.018144       0.000000\n",
       "25%        -6.298551      -8.267985       1.000021      26.953261\n",
       "50%         1.153055      -4.813172       2.011479      57.085625\n",
       "75%         8.621015      -1.332816       3.999904     107.813044\n",
       "max        29.421755      18.734063       5.019721     137.945408"
      ]
     },
     "metadata": {},
     "output_type": "display_data"
    },
    {
     "name": "stdout",
     "output_type": "stream",
     "text": [
      "Missing values\n"
     ]
    },
    {
     "data": {
      "text/plain": [
       "id         0\n",
       "f0         0\n",
       "f1         0\n",
       "f2         0\n",
       "product    0\n",
       "dtype: int64"
      ]
     },
     "metadata": {},
     "output_type": "display_data"
    },
    {
     "name": "stdout",
     "output_type": "stream",
     "text": [
      "Product distribution\n"
     ]
    },
    {
     "data": {
      "image/png": "[encoded data removed]",
      "text/plain": [
       "<Figure size 432x288 with 1 Axes>"
      ]
     },
     "metadata": {
      "needs_background": "light"
     },
     "output_type": "display_data"
    }
   ],
   "source": [
    "get_info(df1)"
   ]
  },
  {
   "cell_type": "code",
   "execution_count": 13,
   "id": "3f52063e",
   "metadata": {},
   "outputs": [
    {
     "name": "stdout",
     "output_type": "stream",
     "text": [
      "Number of duplicates = 0\n",
      "Distribution of features\n"
     ]
    },
    {
     "data": {
      "text/html": [
       "<div>\n",
       "<style scoped>\n",
       "    .dataframe tbody tr th:only-of-type {\n",
       "        vertical-align: middle;\n",
       "    }\n",
       "\n",
       "    .dataframe tbody tr th {\n",
       "        vertical-align: top;\n",
       "    }\n",
       "\n",
       "    .dataframe thead th {\n",
       "        text-align: right;\n",
       "    }\n",
       "</style>\n",
       "<table border=\"1\" class=\"dataframe\">\n",
       "  <thead>\n",
       "    <tr style=\"text-align: right;\">\n",
       "      <th></th>\n",
       "      <th>f0</th>\n",
       "      <th>f1</th>\n",
       "      <th>f2</th>\n",
       "      <th>product</th>\n",
       "    </tr>\n",
       "  </thead>\n",
       "  <tbody>\n",
       "    <tr>\n",
       "      <th>count</th>\n",
       "      <td>100000.000000</td>\n",
       "      <td>100000.000000</td>\n",
       "      <td>100000.000000</td>\n",
       "      <td>100000.000000</td>\n",
       "    </tr>\n",
       "    <tr>\n",
       "      <th>mean</th>\n",
       "      <td>0.002023</td>\n",
       "      <td>-0.002081</td>\n",
       "      <td>2.495128</td>\n",
       "      <td>95.000000</td>\n",
       "    </tr>\n",
       "    <tr>\n",
       "      <th>std</th>\n",
       "      <td>1.732045</td>\n",
       "      <td>1.730417</td>\n",
       "      <td>3.473445</td>\n",
       "      <td>44.749921</td>\n",
       "    </tr>\n",
       "    <tr>\n",
       "      <th>min</th>\n",
       "      <td>-8.760004</td>\n",
       "      <td>-7.084020</td>\n",
       "      <td>-11.970335</td>\n",
       "      <td>0.000000</td>\n",
       "    </tr>\n",
       "    <tr>\n",
       "      <th>25%</th>\n",
       "      <td>-1.162288</td>\n",
       "      <td>-1.174820</td>\n",
       "      <td>0.130359</td>\n",
       "      <td>59.450441</td>\n",
       "    </tr>\n",
       "    <tr>\n",
       "      <th>50%</th>\n",
       "      <td>0.009424</td>\n",
       "      <td>-0.009482</td>\n",
       "      <td>2.484236</td>\n",
       "      <td>94.925613</td>\n",
       "    </tr>\n",
       "    <tr>\n",
       "      <th>75%</th>\n",
       "      <td>1.158535</td>\n",
       "      <td>1.163678</td>\n",
       "      <td>4.858794</td>\n",
       "      <td>130.595027</td>\n",
       "    </tr>\n",
       "    <tr>\n",
       "      <th>max</th>\n",
       "      <td>7.238262</td>\n",
       "      <td>7.844801</td>\n",
       "      <td>16.739402</td>\n",
       "      <td>190.029838</td>\n",
       "    </tr>\n",
       "  </tbody>\n",
       "</table>\n",
       "</div>"
      ],
      "text/plain": [
       "                  f0             f1             f2        product\n",
       "count  100000.000000  100000.000000  100000.000000  100000.000000\n",
       "mean        0.002023      -0.002081       2.495128      95.000000\n",
       "std         1.732045       1.730417       3.473445      44.749921\n",
       "min        -8.760004      -7.084020     -11.970335       0.000000\n",
       "25%        -1.162288      -1.174820       0.130359      59.450441\n",
       "50%         0.009424      -0.009482       2.484236      94.925613\n",
       "75%         1.158535       1.163678       4.858794     130.595027\n",
       "max         7.238262       7.844801      16.739402     190.029838"
      ]
     },
     "metadata": {},
     "output_type": "display_data"
    },
    {
     "name": "stdout",
     "output_type": "stream",
     "text": [
      "Missing values\n"
     ]
    },
    {
     "data": {
      "text/plain": [
       "id         0\n",
       "f0         0\n",
       "f1         0\n",
       "f2         0\n",
       "product    0\n",
       "dtype: int64"
      ]
     },
     "metadata": {},
     "output_type": "display_data"
    },
    {
     "name": "stdout",
     "output_type": "stream",
     "text": [
      "Product distribution\n"
     ]
    },
    {
     "data": {
      "image/png": "[encoded data removed]",
      "text/plain": [
       "<Figure size 432x288 with 1 Axes>"
      ]
     },
     "metadata": {
      "needs_background": "light"
     },
     "output_type": "display_data"
    }
   ],
   "source": [
    "get_info(df2)"
   ]
  },
  {
   "cell_type": "markdown",
   "id": "98b4c165",
   "metadata": {},
   "source": [
    "**Conclusion**\n",
    "\n",
    "- no duplicates, missing values and outliers\n",
    "- distribution for region_1 differs from region_0 and region_2 - more often we have oil wells with either very low or very high concentration of product"
   ]
  },
  {
   "cell_type": "markdown",
   "id": "629dc367",
   "metadata": {},
   "source": [
    "**PREDICTION**"
   ]
  },
  {
   "cell_type": "markdown",
   "id": "59aeb8e0",
   "metadata": {},
   "source": [
    "Only linear regression is suitable for model training (the rest are not sufficiently predictable)."
   ]
  },
  {
   "cell_type": "code",
   "execution_count": 15,
   "id": "e5da3dc3",
   "metadata": {},
   "outputs": [],
   "source": [
    "def get_prediction(df):\n",
    "    state = np.random.RandomState(54321)\n",
    "    df = df.drop('id', axis = 1)\n",
    "    target = df['product']\n",
    "    features = df.drop('product', axis = 1)\n",
    "    target_train, target_valid, features_train, features_valid = train_test_split(target, features, test_size = 0.25, random_state = state)\n",
    "    scaler = StandardScaler()\n",
    "    features_train = scaler.fit_transform(features_train)\n",
    "    features_valid = scaler.transform(features_valid)\n",
    "    model = LinearRegression()\n",
    "    model.fit(features_train, target_train)\n",
    "    predicted_valid = model.predict(features_valid)\n",
    "    print(f'rmse : {mean_squared_error(predicted_valid, target_valid)**0.5}')\n",
    "    print(f'average prediction: {pd.Series(predicted_valid).mean()}')\n",
    "    return pd.Series(predicted_valid), pd.Series(target_valid).reset_index(drop = True)\n",
    "\n"
   ]
  },
  {
   "cell_type": "code",
   "execution_count": 17,
   "id": "91a8eb4c",
   "metadata": {},
   "outputs": [
    {
     "name": "stdout",
     "output_type": "stream",
     "text": [
      "rmse : 37.68341093860808\n",
      "average prediction: 92.15921155743655\n"
     ]
    }
   ],
   "source": [
    "predicted0, target0 = get_prediction(df0)"
   ]
  },
  {
   "cell_type": "code",
   "execution_count": 19,
   "id": "bba4049b",
   "metadata": {},
   "outputs": [
    {
     "name": "stdout",
     "output_type": "stream",
     "text": [
      "rmse : 0.8922819708481483\n",
      "average prediction: 68.44594093153303\n"
     ]
    }
   ],
   "source": [
    "predicted1, target1 = get_prediction(df1)"
   ]
  },
  {
   "cell_type": "code",
   "execution_count": 20,
   "id": "510506ec",
   "metadata": {
    "scrolled": true
   },
   "outputs": [
    {
     "name": "stdout",
     "output_type": "stream",
     "text": [
      "rmse : 40.15250541784855\n",
      "average prediction: 94.92229500787454\n"
     ]
    }
   ],
   "source": [
    "predicted2, target2 = get_prediction(df2)"
   ]
  },
  {
   "cell_type": "markdown",
   "id": "94f1ba62",
   "metadata": {},
   "source": [
    "**Conclusion** \n",
    "\n",
    "Region_2 has the highest average but, on the other hand, the highest rmse We will use bootstrap to make the final conclusion"
   ]
  },
  {
   "cell_type": "markdown",
   "id": "b4227451",
   "metadata": {},
   "source": [
    "**PROFIT CALCULATION**"
   ]
  },
  {
   "cell_type": "markdown",
   "id": "b1b737d8",
   "metadata": {},
   "source": [
    "When exploring the region, a study of 500 points is carried with picking the best 200 points for the profit calculation."
   ]
  },
  {
   "cell_type": "code",
   "execution_count": 25,
   "id": "cec51670",
   "metadata": {},
   "outputs": [],
   "source": [
    "budget = 100000000\n",
    "number_wells = 200\n",
    "price_product = 4500"
   ]
  },
  {
   "cell_type": "code",
   "execution_count": 30,
   "id": "e82f272e",
   "metadata": {},
   "outputs": [],
   "source": [
    "def get_profit_top_200(predicted, target):\n",
    "    predicted = predicted.sort_values(ascending = False).head(number_wells)\n",
    "    target = target[predicted.index]\n",
    "    revenue = target.sum()*price_product\n",
    "    profit = round(((revenue - budget)/1000000), 2)\n",
    "    return profit"
   ]
  },
  {
   "cell_type": "markdown",
   "id": "6f03d16a",
   "metadata": {},
   "source": [
    "Check function for all oil wells"
   ]
  },
  {
   "cell_type": "code",
   "execution_count": 31,
   "id": "baa0179e",
   "metadata": {},
   "outputs": [],
   "source": [
    "all_predictions = pd.concat([predicted0, predicted1, predicted2])\n",
    "all_targets = pd.concat([df0['product'], df1['product'], df2['product']])"
   ]
  },
  {
   "cell_type": "code",
   "execution_count": 33,
   "id": "23eeadc2",
   "metadata": {},
   "outputs": [
    {
     "name": "stdout",
     "output_type": "stream",
     "text": [
      "Profit from top_200 in all regions = 126.83 USD million\n"
     ]
    }
   ],
   "source": [
    "print(f'Profit from top_{number_wells} in all regions = {get_profit_top_200(all_predictions, all_targets)} USD million')"
   ]
  },
  {
   "cell_type": "markdown",
   "id": "0652326d",
   "metadata": {},
   "source": [
    "**BOOTSTRAP**"
   ]
  },
  {
   "cell_type": "markdown",
   "id": "f0e8b441",
   "metadata": {},
   "source": [
    "Find average profit, 95% confidence interval and risk of losses. Loss is negative profit, calculate it as a probability and then express as a percentage."
   ]
  },
  {
   "cell_type": "code",
   "execution_count": 49,
   "id": "ebb900e4",
   "metadata": {},
   "outputs": [],
   "source": [
    "def get_mean_profit(predicted, target, region):\n",
    "\n",
    "    state = np.random.RandomState(54321)\n",
    "    n_bootstrap = 1000\n",
    "    bootstrap_size = 500\n",
    "    profits = []\n",
    "    for i in range(n_bootstrap):\n",
    "        bootstrap_sample = predicted.sample(bootstrap_size, replace = True, random_state = state)\n",
    "        profit = get_profit_top_200(bootstrap_sample, target)\n",
    "        profits.append(profit)\n",
    "    profits = pd.Series(profits)\n",
    "    lower = profits.quantile(0.025)\n",
    "    upper = profits.quantile(0.975)\n",
    "    losses = len(profits[profits <0])/len(profits)*100\n",
    "    print(f'Average profit for {region} = {round(profits.mean(), 2)} USD million, confidence interval ({round(lower, 2)}, {round(upper, 2)}) Losses = {round(losses, 1)} %')\n",
    "\n",
    "\n",
    "\n"
   ]
  },
  {
   "cell_type": "code",
   "execution_count": 51,
   "id": "74a99feb",
   "metadata": {},
   "outputs": [
    {
     "name": "stdout",
     "output_type": "stream",
     "text": [
      "Average profit for region_0 = 3.78 USD million, confidence interval (-0.9, 9.02) Losses = 6.8 %\n"
     ]
    }
   ],
   "source": [
    "get_mean_profit(predicted0, target0, 'region_0')"
   ]
  },
  {
   "cell_type": "code",
   "execution_count": 52,
   "id": "6b730ee7",
   "metadata": {},
   "outputs": [
    {
     "name": "stdout",
     "output_type": "stream",
     "text": [
      "Average profit for region_1 = 4.11 USD million, confidence interval (0.18, 8.35) Losses = 2.1 %\n"
     ]
    }
   ],
   "source": [
    "get_mean_profit(predicted1, target1, 'region_1')"
   ]
  },
  {
   "cell_type": "code",
   "execution_count": 54,
   "id": "6f3a6e6f",
   "metadata": {},
   "outputs": [
    {
     "name": "stdout",
     "output_type": "stream",
     "text": [
      "Average profit for region_2 = 3.97 USD million, confidence interval (-1.4, 8.77) Losses = 7.6 %\n"
     ]
    }
   ],
   "source": [
    "get_mean_profit(predicted2, target2, 'region_2')"
   ]
  },
  {
   "cell_type": "markdown",
   "id": "33dd8fb9",
   "metadata": {},
   "source": [
    "**Conclusion**\n",
    "\n",
    "The most promising region - region_1"
   ]
  }
 ],
 "metadata": {
  "kernelspec": {
   "display_name": "Python 3 (ipykernel)",
   "language": "python",
   "name": "python3"
  },
  "language_info": {
   "codemirror_mode": {
    "name": "ipython",
    "version": 3
   },
   "file_extension": ".py",
   "mimetype": "text/x-python",
   "name": "python",
   "nbconvert_exporter": "python",
   "pygments_lexer": "ipython3",
   "version": "3.9.15"
  },
  "toc": {
   "base_numbering": 1,
   "nav_menu": {},
   "number_sections": true,
   "sideBar": true,
   "skip_h1_title": false,
   "title_cell": "Table of Contents",
   "title_sidebar": "Contents",
   "toc_cell": false,
   "toc_position": {},
   "toc_section_display": true,
   "toc_window_display": false
  }
 },
 "nbformat": 4,
 "nbformat_minor": 5
}
