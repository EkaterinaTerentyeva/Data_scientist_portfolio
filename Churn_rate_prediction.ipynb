{
 "cells": [
  {
   "cell_type": "markdown",
   "id": "3f551a5d",
   "metadata": {},
   "source": [
    "**Prediction of the churn**\n",
    "\n",
    "**Objective**: \n",
    "\n",
    "- predict whether a customer will leave the bank soon. You have the data on clients’ past behavior and termination of contracts with the bank.\n",
    "\n",
    "- build a model with the maximum possible F1 score: threshold = 0.59\n",
    "\n",
    "- measure the AUC-ROC metric\n",
    "\n",
    "**Features**\n",
    "- RowNumber — data string index\n",
    "- CustomerId — unique customer identifier\n",
    "- Surname — surname\n",
    "- CreditScore — credit score\n",
    "- Geography — country of residence\n",
    "- Gender — gender\n",
    "- Age — age\n",
    "- Tenure — period of maturation for a customer’s fixed deposit (years)\n",
    "- Balance — account balance\n",
    "- NumOfProducts — number of banking products used by the customer\n",
    "- HasCrCard — customer has a credit card\n",
    "- IsActiveMember — customer’s activeness\n",
    "- EstimatedSalary — estimated salary\n",
    "- Exited — сustomer has left "
   ]
  },
  {
   "cell_type": "code",
   "execution_count": 1,
   "id": "401931db",
   "metadata": {},
   "outputs": [],
   "source": [
    "import pandas as pd\n",
    "from sklearn.model_selection import train_test_split\n",
    "from sklearn.metrics import  f1_score, roc_auc_score\n",
    "from sklearn.linear_model import LogisticRegression\n",
    "from sklearn.tree import DecisionTreeClassifier\n",
    "from sklearn.ensemble import RandomForestClassifier\n",
    "from sklearn.utils import shuffle\n",
    "from sklearn.preprocessing import StandardScaler"
   ]
  },
  {
   "cell_type": "code",
   "execution_count": 2,
   "id": "b9bc5ab7",
   "metadata": {},
   "outputs": [
    {
     "name": "stdout",
     "output_type": "stream",
     "text": [
      "<class 'pandas.core.frame.DataFrame'>\n",
      "RangeIndex: 10000 entries, 0 to 9999\n",
      "Data columns (total 14 columns):\n",
      " #   Column           Non-Null Count  Dtype  \n",
      "---  ------           --------------  -----  \n",
      " 0   RowNumber        10000 non-null  int64  \n",
      " 1   CustomerId       10000 non-null  int64  \n",
      " 2   Surname          10000 non-null  object \n",
      " 3   CreditScore      10000 non-null  int64  \n",
      " 4   Geography        10000 non-null  object \n",
      " 5   Gender           10000 non-null  object \n",
      " 6   Age              10000 non-null  int64  \n",
      " 7   Tenure           9091 non-null   float64\n",
      " 8   Balance          10000 non-null  float64\n",
      " 9   NumOfProducts    10000 non-null  int64  \n",
      " 10  HasCrCard        10000 non-null  int64  \n",
      " 11  IsActiveMember   10000 non-null  int64  \n",
      " 12  EstimatedSalary  10000 non-null  float64\n",
      " 13  Exited           10000 non-null  int64  \n",
      "dtypes: float64(3), int64(8), object(3)\n",
      "memory usage: 1.1+ MB\n",
      "None\n"
     ]
    },
    {
     "data": {
      "text/html": [
       "<div>\n",
       "<style scoped>\n",
       "    .dataframe tbody tr th:only-of-type {\n",
       "        vertical-align: middle;\n",
       "    }\n",
       "\n",
       "    .dataframe tbody tr th {\n",
       "        vertical-align: top;\n",
       "    }\n",
       "\n",
       "    .dataframe thead th {\n",
       "        text-align: right;\n",
       "    }\n",
       "</style>\n",
       "<table border=\"1\" class=\"dataframe\">\n",
       "  <thead>\n",
       "    <tr style=\"text-align: right;\">\n",
       "      <th></th>\n",
       "      <th>RowNumber</th>\n",
       "      <th>CustomerId</th>\n",
       "      <th>Surname</th>\n",
       "      <th>CreditScore</th>\n",
       "      <th>Geography</th>\n",
       "      <th>Gender</th>\n",
       "      <th>Age</th>\n",
       "      <th>Tenure</th>\n",
       "      <th>Balance</th>\n",
       "      <th>NumOfProducts</th>\n",
       "      <th>HasCrCard</th>\n",
       "      <th>IsActiveMember</th>\n",
       "      <th>EstimatedSalary</th>\n",
       "      <th>Exited</th>\n",
       "    </tr>\n",
       "  </thead>\n",
       "  <tbody>\n",
       "    <tr>\n",
       "      <th>0</th>\n",
       "      <td>1</td>\n",
       "      <td>15634602</td>\n",
       "      <td>Hargrave</td>\n",
       "      <td>619</td>\n",
       "      <td>France</td>\n",
       "      <td>Female</td>\n",
       "      <td>42</td>\n",
       "      <td>2.0</td>\n",
       "      <td>0.00</td>\n",
       "      <td>1</td>\n",
       "      <td>1</td>\n",
       "      <td>1</td>\n",
       "      <td>101348.88</td>\n",
       "      <td>1</td>\n",
       "    </tr>\n",
       "    <tr>\n",
       "      <th>1</th>\n",
       "      <td>2</td>\n",
       "      <td>15647311</td>\n",
       "      <td>Hill</td>\n",
       "      <td>608</td>\n",
       "      <td>Spain</td>\n",
       "      <td>Female</td>\n",
       "      <td>41</td>\n",
       "      <td>1.0</td>\n",
       "      <td>83807.86</td>\n",
       "      <td>1</td>\n",
       "      <td>0</td>\n",
       "      <td>1</td>\n",
       "      <td>112542.58</td>\n",
       "      <td>0</td>\n",
       "    </tr>\n",
       "    <tr>\n",
       "      <th>2</th>\n",
       "      <td>3</td>\n",
       "      <td>15619304</td>\n",
       "      <td>Onio</td>\n",
       "      <td>502</td>\n",
       "      <td>France</td>\n",
       "      <td>Female</td>\n",
       "      <td>42</td>\n",
       "      <td>8.0</td>\n",
       "      <td>159660.80</td>\n",
       "      <td>3</td>\n",
       "      <td>1</td>\n",
       "      <td>0</td>\n",
       "      <td>113931.57</td>\n",
       "      <td>1</td>\n",
       "    </tr>\n",
       "    <tr>\n",
       "      <th>3</th>\n",
       "      <td>4</td>\n",
       "      <td>15701354</td>\n",
       "      <td>Boni</td>\n",
       "      <td>699</td>\n",
       "      <td>France</td>\n",
       "      <td>Female</td>\n",
       "      <td>39</td>\n",
       "      <td>1.0</td>\n",
       "      <td>0.00</td>\n",
       "      <td>2</td>\n",
       "      <td>0</td>\n",
       "      <td>0</td>\n",
       "      <td>93826.63</td>\n",
       "      <td>0</td>\n",
       "    </tr>\n",
       "    <tr>\n",
       "      <th>4</th>\n",
       "      <td>5</td>\n",
       "      <td>15737888</td>\n",
       "      <td>Mitchell</td>\n",
       "      <td>850</td>\n",
       "      <td>Spain</td>\n",
       "      <td>Female</td>\n",
       "      <td>43</td>\n",
       "      <td>2.0</td>\n",
       "      <td>125510.82</td>\n",
       "      <td>1</td>\n",
       "      <td>1</td>\n",
       "      <td>1</td>\n",
       "      <td>79084.10</td>\n",
       "      <td>0</td>\n",
       "    </tr>\n",
       "  </tbody>\n",
       "</table>\n",
       "</div>"
      ],
      "text/plain": [
       "   RowNumber  CustomerId   Surname  CreditScore Geography  Gender  Age  \\\n",
       "0          1    15634602  Hargrave          619    France  Female   42   \n",
       "1          2    15647311      Hill          608     Spain  Female   41   \n",
       "2          3    15619304      Onio          502    France  Female   42   \n",
       "3          4    15701354      Boni          699    France  Female   39   \n",
       "4          5    15737888  Mitchell          850     Spain  Female   43   \n",
       "\n",
       "   Tenure    Balance  NumOfProducts  HasCrCard  IsActiveMember  \\\n",
       "0     2.0       0.00              1          1               1   \n",
       "1     1.0   83807.86              1          0               1   \n",
       "2     8.0  159660.80              3          1               0   \n",
       "3     1.0       0.00              2          0               0   \n",
       "4     2.0  125510.82              1          1               1   \n",
       "\n",
       "   EstimatedSalary  Exited  \n",
       "0        101348.88       1  \n",
       "1        112542.58       0  \n",
       "2        113931.57       1  \n",
       "3         93826.63       0  \n",
       "4         79084.10       0  "
      ]
     },
     "metadata": {},
     "output_type": "display_data"
    },
    {
     "data": {
      "text/plain": [
       "RowNumber            int64\n",
       "CustomerId           int64\n",
       "Surname             object\n",
       "CreditScore          int64\n",
       "Geography           object\n",
       "Gender              object\n",
       "Age                  int64\n",
       "Tenure             float64\n",
       "Balance            float64\n",
       "NumOfProducts        int64\n",
       "HasCrCard            int64\n",
       "IsActiveMember       int64\n",
       "EstimatedSalary    float64\n",
       "Exited               int64\n",
       "dtype: object"
      ]
     },
     "execution_count": 2,
     "metadata": {},
     "output_type": "execute_result"
    }
   ],
   "source": [
    "data = pd.read_csv('Churn.csv')\n",
    "print(data.info())\n",
    "display(data.head())\n",
    "data.dtypes"
   ]
  },
  {
   "cell_type": "markdown",
   "id": "62d877b3",
   "metadata": {},
   "source": [
    "**Get rid of useless features**"
   ]
  },
  {
   "cell_type": "code",
   "execution_count": 3,
   "id": "5334c562",
   "metadata": {},
   "outputs": [],
   "source": [
    "data = data.drop(['RowNumber', 'CustomerId', 'Surname'], axis = 1)"
   ]
  },
  {
   "cell_type": "markdown",
   "id": "ad46549b",
   "metadata": {},
   "source": [
    "**Fill in the missing values**"
   ]
  },
  {
   "cell_type": "code",
   "execution_count": 4,
   "id": "40231e58",
   "metadata": {},
   "outputs": [],
   "source": [
    "data['Tenure'] = data['Tenure'].fillna(data['Tenure'].median()).astype('int')"
   ]
  },
  {
   "cell_type": "markdown",
   "id": "4a3024b8",
   "metadata": {},
   "source": [
    "**One hot encoding for categorical values + avoiding the dummy trap**"
   ]
  },
  {
   "cell_type": "code",
   "execution_count": 5,
   "id": "7ceebd5b",
   "metadata": {},
   "outputs": [
    {
     "data": {
      "text/html": [
       "<div>\n",
       "<style scoped>\n",
       "    .dataframe tbody tr th:only-of-type {\n",
       "        vertical-align: middle;\n",
       "    }\n",
       "\n",
       "    .dataframe tbody tr th {\n",
       "        vertical-align: top;\n",
       "    }\n",
       "\n",
       "    .dataframe thead th {\n",
       "        text-align: right;\n",
       "    }\n",
       "</style>\n",
       "<table border=\"1\" class=\"dataframe\">\n",
       "  <thead>\n",
       "    <tr style=\"text-align: right;\">\n",
       "      <th></th>\n",
       "      <th>CreditScore</th>\n",
       "      <th>Age</th>\n",
       "      <th>Tenure</th>\n",
       "      <th>Balance</th>\n",
       "      <th>NumOfProducts</th>\n",
       "      <th>HasCrCard</th>\n",
       "      <th>IsActiveMember</th>\n",
       "      <th>EstimatedSalary</th>\n",
       "      <th>Exited</th>\n",
       "      <th>Geography_Germany</th>\n",
       "      <th>Geography_Spain</th>\n",
       "      <th>Gender_Male</th>\n",
       "    </tr>\n",
       "  </thead>\n",
       "  <tbody>\n",
       "    <tr>\n",
       "      <th>0</th>\n",
       "      <td>619</td>\n",
       "      <td>42</td>\n",
       "      <td>2</td>\n",
       "      <td>0.00</td>\n",
       "      <td>1</td>\n",
       "      <td>1</td>\n",
       "      <td>1</td>\n",
       "      <td>101348.88</td>\n",
       "      <td>1</td>\n",
       "      <td>0</td>\n",
       "      <td>0</td>\n",
       "      <td>0</td>\n",
       "    </tr>\n",
       "    <tr>\n",
       "      <th>1</th>\n",
       "      <td>608</td>\n",
       "      <td>41</td>\n",
       "      <td>1</td>\n",
       "      <td>83807.86</td>\n",
       "      <td>1</td>\n",
       "      <td>0</td>\n",
       "      <td>1</td>\n",
       "      <td>112542.58</td>\n",
       "      <td>0</td>\n",
       "      <td>0</td>\n",
       "      <td>1</td>\n",
       "      <td>0</td>\n",
       "    </tr>\n",
       "    <tr>\n",
       "      <th>2</th>\n",
       "      <td>502</td>\n",
       "      <td>42</td>\n",
       "      <td>8</td>\n",
       "      <td>159660.80</td>\n",
       "      <td>3</td>\n",
       "      <td>1</td>\n",
       "      <td>0</td>\n",
       "      <td>113931.57</td>\n",
       "      <td>1</td>\n",
       "      <td>0</td>\n",
       "      <td>0</td>\n",
       "      <td>0</td>\n",
       "    </tr>\n",
       "    <tr>\n",
       "      <th>3</th>\n",
       "      <td>699</td>\n",
       "      <td>39</td>\n",
       "      <td>1</td>\n",
       "      <td>0.00</td>\n",
       "      <td>2</td>\n",
       "      <td>0</td>\n",
       "      <td>0</td>\n",
       "      <td>93826.63</td>\n",
       "      <td>0</td>\n",
       "      <td>0</td>\n",
       "      <td>0</td>\n",
       "      <td>0</td>\n",
       "    </tr>\n",
       "    <tr>\n",
       "      <th>4</th>\n",
       "      <td>850</td>\n",
       "      <td>43</td>\n",
       "      <td>2</td>\n",
       "      <td>125510.82</td>\n",
       "      <td>1</td>\n",
       "      <td>1</td>\n",
       "      <td>1</td>\n",
       "      <td>79084.10</td>\n",
       "      <td>0</td>\n",
       "      <td>0</td>\n",
       "      <td>1</td>\n",
       "      <td>0</td>\n",
       "    </tr>\n",
       "  </tbody>\n",
       "</table>\n",
       "</div>"
      ],
      "text/plain": [
       "   CreditScore  Age  Tenure    Balance  NumOfProducts  HasCrCard  \\\n",
       "0          619   42       2       0.00              1          1   \n",
       "1          608   41       1   83807.86              1          0   \n",
       "2          502   42       8  159660.80              3          1   \n",
       "3          699   39       1       0.00              2          0   \n",
       "4          850   43       2  125510.82              1          1   \n",
       "\n",
       "   IsActiveMember  EstimatedSalary  Exited  Geography_Germany  \\\n",
       "0               1        101348.88       1                  0   \n",
       "1               1        112542.58       0                  0   \n",
       "2               0        113931.57       1                  0   \n",
       "3               0         93826.63       0                  0   \n",
       "4               1         79084.10       0                  0   \n",
       "\n",
       "   Geography_Spain  Gender_Male  \n",
       "0                0            0  \n",
       "1                1            0  \n",
       "2                0            0  \n",
       "3                0            0  \n",
       "4                1            0  "
      ]
     },
     "execution_count": 5,
     "metadata": {},
     "output_type": "execute_result"
    }
   ],
   "source": [
    "data = pd.get_dummies(data, drop_first = True)\n",
    "data.head()"
   ]
  },
  {
   "cell_type": "markdown",
   "id": "8a74330e",
   "metadata": {},
   "source": [
    "**Spliting data**"
   ]
  },
  {
   "cell_type": "code",
   "execution_count": 6,
   "id": "f90d97ee",
   "metadata": {},
   "outputs": [],
   "source": [
    "target = data['Exited']\n",
    "features = data.drop('Exited', axis = 1)"
   ]
  },
  {
   "cell_type": "code",
   "execution_count": 7,
   "id": "a6b48885",
   "metadata": {},
   "outputs": [],
   "source": [
    "target_train, target_rest, features_train, features_rest = train_test_split(target, features, test_size = 0.4, random_state = 1)"
   ]
  },
  {
   "cell_type": "code",
   "execution_count": 8,
   "id": "ac8656fa",
   "metadata": {},
   "outputs": [],
   "source": [
    "target_valid, target_test, features_valid, features_test = train_test_split(target_rest, features_rest, test_size = 0.5, random_state = 2)"
   ]
  },
  {
   "cell_type": "code",
   "execution_count": 9,
   "id": "e9f770d9",
   "metadata": {},
   "outputs": [
    {
     "name": "stdout",
     "output_type": "stream",
     "text": [
      "6000\n",
      "2000\n"
     ]
    },
    {
     "data": {
      "text/plain": [
       "2000"
      ]
     },
     "execution_count": 9,
     "metadata": {},
     "output_type": "execute_result"
    }
   ],
   "source": [
    "print(len(target_train))\n",
    "print(len(target_valid))\n",
    "len(target_test)"
   ]
  },
  {
   "cell_type": "markdown",
   "id": "e8dd1880",
   "metadata": {},
   "source": [
    "**Standartization**"
   ]
  },
  {
   "cell_type": "code",
   "execution_count": 10,
   "id": "e9c4463a",
   "metadata": {},
   "outputs": [],
   "source": [
    "scaler = StandardScaler()"
   ]
  },
  {
   "cell_type": "code",
   "execution_count": 11,
   "id": "d8d47070",
   "metadata": {},
   "outputs": [],
   "source": [
    "numeric = ['CreditScore', 'Age', 'Tenure', 'Balance', 'NumOfProducts', 'EstimatedSalary']"
   ]
  },
  {
   "cell_type": "code",
   "execution_count": 12,
   "id": "e8cb4d64",
   "metadata": {},
   "outputs": [
    {
     "name": "stderr",
     "output_type": "stream",
     "text": [
      "C:\\Users\\Utilisateur\\AppData\\Local\\Temp\\ipykernel_23652\\3298177551.py:1: SettingWithCopyWarning: \n",
      "A value is trying to be set on a copy of a slice from a DataFrame.\n",
      "Try using .loc[row_indexer,col_indexer] = value instead\n",
      "\n",
      "See the caveats in the documentation: https://pandas.pydata.org/pandas-docs/stable/user_guide/indexing.html#returning-a-view-versus-a-copy\n",
      "  features_train[numeric] = scaler.fit_transform(features_train[numeric])\n",
      "C:\\Users\\Utilisateur\\AppData\\Local\\Temp\\ipykernel_23652\\3298177551.py:2: SettingWithCopyWarning: \n",
      "A value is trying to be set on a copy of a slice from a DataFrame.\n",
      "Try using .loc[row_indexer,col_indexer] = value instead\n",
      "\n",
      "See the caveats in the documentation: https://pandas.pydata.org/pandas-docs/stable/user_guide/indexing.html#returning-a-view-versus-a-copy\n",
      "  features_valid[numeric] = scaler.transform(features_valid[numeric])\n",
      "C:\\Users\\Utilisateur\\AppData\\Local\\Temp\\ipykernel_23652\\3298177551.py:3: SettingWithCopyWarning: \n",
      "A value is trying to be set on a copy of a slice from a DataFrame.\n",
      "Try using .loc[row_indexer,col_indexer] = value instead\n",
      "\n",
      "See the caveats in the documentation: https://pandas.pydata.org/pandas-docs/stable/user_guide/indexing.html#returning-a-view-versus-a-copy\n",
      "  features_test[numeric] = scaler.transform(features_test[numeric])\n"
     ]
    }
   ],
   "source": [
    "features_train[numeric] = scaler.fit_transform(features_train[numeric])\n",
    "features_valid[numeric] = scaler.transform(features_valid[numeric])\n",
    "features_test[numeric] = scaler.transform(features_test[numeric])"
   ]
  },
  {
   "cell_type": "markdown",
   "id": "59b540c5",
   "metadata": {},
   "source": [
    "**Class balance**"
   ]
  },
  {
   "cell_type": "code",
   "execution_count": 13,
   "id": "286c9593",
   "metadata": {},
   "outputs": [
    {
     "data": {
      "text/plain": [
       "0    0.8\n",
       "1    0.2\n",
       "Name: Exited, dtype: float64"
      ]
     },
     "execution_count": 13,
     "metadata": {},
     "output_type": "execute_result"
    }
   ],
   "source": [
    "round(data['Exited'].value_counts(normalize = True), 2)"
   ]
  },
  {
   "cell_type": "markdown",
   "id": "7cce9adc",
   "metadata": {},
   "source": [
    "**Upsampling**"
   ]
  },
  {
   "cell_type": "code",
   "execution_count": 14,
   "id": "6d90515e",
   "metadata": {},
   "outputs": [],
   "source": [
    "def get_balanced(features, target, repeat):\n",
    "    features_zeros = features[target == 0]\n",
    "    features_ones = features[target == 1]\n",
    "    target_zeros = target[target == 0]\n",
    "    target_ones = target[target == 1]\n",
    "    target_upsample = shuffle(pd.concat([target_ones]*repeat + [target_zeros]), random_state = 12)\n",
    "    features_upsample = shuffle(pd.concat([features_ones]*repeat + [features_zeros]), random_state = 12)\n",
    "    return target_upsample, features_upsample"
   ]
  },
  {
   "cell_type": "code",
   "execution_count": 15,
   "id": "cf6a1ded",
   "metadata": {},
   "outputs": [],
   "source": [
    "target_train, features_train = get_balanced(features_train, target_train, 4)"
   ]
  },
  {
   "cell_type": "code",
   "execution_count": 16,
   "id": "68df5c69",
   "metadata": {
    "scrolled": true
   },
   "outputs": [
    {
     "data": {
      "text/plain": [
       "0    0.5\n",
       "1    0.5\n",
       "Name: Exited, dtype: float64"
      ]
     },
     "execution_count": 16,
     "metadata": {},
     "output_type": "execute_result"
    }
   ],
   "source": [
    "round(target_train.value_counts(normalize = True), 2)"
   ]
  },
  {
   "cell_type": "markdown",
   "id": "ead41535",
   "metadata": {},
   "source": [
    "**Logistic Regression**"
   ]
  },
  {
   "cell_type": "code",
   "execution_count": 23,
   "id": "981b1380",
   "metadata": {},
   "outputs": [
    {
     "name": "stdout",
     "output_type": "stream",
     "text": [
      "f1_score for logistic regression 0.496\n",
      "auc_roc_score for logistic regression 0.702\n"
     ]
    }
   ],
   "source": [
    "model = LogisticRegression(random_state = 12345)\n",
    "model.fit(features_train, target_train)\n",
    "predicted_valid = model.predict(features_valid)\n",
    "print(f'f1_score for logistic regression {round(f1_score(target_valid, predicted_valid), 3)}')\n",
    "print(f'auc_roc_score for logistic regression {round(roc_auc_score(target_valid, predicted_valid), 3)}')"
   ]
  },
  {
   "cell_type": "markdown",
   "id": "3126070d",
   "metadata": {},
   "source": [
    "**Decision Tree**"
   ]
  },
  {
   "cell_type": "code",
   "execution_count": 29,
   "id": "c6b7c6a5",
   "metadata": {},
   "outputs": [
    {
     "name": "stdout",
     "output_type": "stream",
     "text": [
      "f1_score for decision tree with depth 2 = 0.526\n",
      "roc_auc_score for decision tree with depth 2 = 0.726\n",
      "************************************************************\n",
      "f1_score for decision tree with depth 3 = 0.553\n",
      "roc_auc_score for decision tree with depth 3 = 0.74\n",
      "************************************************************\n",
      "f1_score for decision tree with depth 4 = 0.546\n",
      "roc_auc_score for decision tree with depth 4 = 0.753\n",
      "************************************************************\n",
      "f1_score for decision tree with depth 5 = 0.58\n",
      "roc_auc_score for decision tree with depth 5 = 0.778\n",
      "************************************************************\n",
      "f1_score for decision tree with depth 6 = 0.59\n",
      "roc_auc_score for decision tree with depth 6 = 0.781\n",
      "************************************************************\n",
      "f1_score for decision tree with depth 7 = 0.613\n",
      "roc_auc_score for decision tree with depth 7 = 0.791\n",
      "************************************************************\n",
      "f1_score for decision tree with depth 8 = 0.575\n",
      "roc_auc_score for decision tree with depth 8 = 0.762\n",
      "************************************************************\n",
      "f1_score for decision tree with depth 9 = 0.57\n",
      "roc_auc_score for decision tree with depth 9 = 0.755\n",
      "************************************************************\n"
     ]
    }
   ],
   "source": [
    "for depth in range(2, 10):\n",
    "    model = DecisionTreeClassifier(max_depth = depth, random_state = 12)\n",
    "    model.fit(features_train, target_train)\n",
    "    predicted_valid = model.predict(features_valid)\n",
    "    print(f'f1_score for decision tree with depth {depth} = {round(f1_score(target_valid, predicted_valid), 3)}')\n",
    "    print(f'roc_auc_score for decision tree with depth {depth} = {round(roc_auc_score(target_valid, predicted_valid), 3)}')\n",
    "    print('*'*60)"
   ]
  },
  {
   "cell_type": "markdown",
   "id": "a771d845",
   "metadata": {},
   "source": [
    "**RandomForestClassifier**"
   ]
  },
  {
   "cell_type": "code",
   "execution_count": 34,
   "id": "6b662fff",
   "metadata": {},
   "outputs": [
    {
     "name": "stdout",
     "output_type": "stream",
     "text": [
      "f1_score for random forest with depth 4 and estimators = 10 = 0.599\n",
      "roc_auc_score for random forest with depth 4 and estimators = 10 = 0.774\n",
      "************************************************************\n",
      "f1_score for random forest with depth 5 and estimators = 10 = 0.603\n",
      "roc_auc_score for random forest with depth 5 and estimators = 10 = 0.775\n",
      "************************************************************\n",
      "f1_score for random forest with depth 6 and estimators = 10 = 0.614\n",
      "roc_auc_score for random forest with depth 6 and estimators = 10 = 0.784\n",
      "************************************************************\n",
      "f1_score for random forest with depth 7 and estimators = 10 = 0.623\n",
      "roc_auc_score for random forest with depth 7 and estimators = 10 = 0.784\n",
      "************************************************************\n",
      "f1_score for random forest with depth 8 and estimators = 10 = 0.644\n",
      "roc_auc_score for random forest with depth 8 and estimators = 10 = 0.794\n",
      "************************************************************\n",
      "f1_score for random forest with depth 9 and estimators = 10 = 0.616\n",
      "roc_auc_score for random forest with depth 9 and estimators = 10 = 0.77\n",
      "************************************************************\n",
      "f1_score for random forest with depth 4 and estimators = 20 = 0.598\n",
      "roc_auc_score for random forest with depth 4 and estimators = 20 = 0.775\n",
      "************************************************************\n",
      "f1_score for random forest with depth 5 and estimators = 20 = 0.612\n",
      "roc_auc_score for random forest with depth 5 and estimators = 20 = 0.783\n",
      "************************************************************\n",
      "f1_score for random forest with depth 6 and estimators = 20 = 0.614\n",
      "roc_auc_score for random forest with depth 6 and estimators = 20 = 0.784\n",
      "************************************************************\n",
      "f1_score for random forest with depth 7 and estimators = 20 = 0.624\n",
      "roc_auc_score for random forest with depth 7 and estimators = 20 = 0.787\n",
      "************************************************************\n",
      "f1_score for random forest with depth 8 and estimators = 20 = 0.636\n",
      "roc_auc_score for random forest with depth 8 and estimators = 20 = 0.789\n",
      "************************************************************\n",
      "f1_score for random forest with depth 9 and estimators = 20 = 0.625\n",
      "roc_auc_score for random forest with depth 9 and estimators = 20 = 0.779\n",
      "************************************************************\n",
      "f1_score for random forest with depth 3 and estimators = 30 = 0.601\n",
      "roc_auc_score for random forest with depth 3 and estimators = 30 = 0.775\n",
      "************************************************************\n",
      "f1_score for random forest with depth 4 and estimators = 30 = 0.606\n",
      "roc_auc_score for random forest with depth 4 and estimators = 30 = 0.781\n",
      "************************************************************\n",
      "f1_score for random forest with depth 5 and estimators = 30 = 0.615\n",
      "roc_auc_score for random forest with depth 5 and estimators = 30 = 0.787\n",
      "************************************************************\n",
      "f1_score for random forest with depth 6 and estimators = 30 = 0.624\n",
      "roc_auc_score for random forest with depth 6 and estimators = 30 = 0.792\n",
      "************************************************************\n",
      "f1_score for random forest with depth 7 and estimators = 30 = 0.634\n",
      "roc_auc_score for random forest with depth 7 and estimators = 30 = 0.794\n",
      "************************************************************\n",
      "f1_score for random forest with depth 8 and estimators = 30 = 0.636\n",
      "roc_auc_score for random forest with depth 8 and estimators = 30 = 0.788\n",
      "************************************************************\n",
      "f1_score for random forest with depth 9 and estimators = 30 = 0.642\n",
      "roc_auc_score for random forest with depth 9 and estimators = 30 = 0.79\n",
      "************************************************************\n",
      "The best random forest model has f1_score = 0.642 with 30 estimators and 9 depth\n"
     ]
    }
   ],
   "source": [
    "for est in range(10, 40, 10):\n",
    "    for depth in range (2, 10):\n",
    "        model = RandomForestClassifier(n_estimators = est, max_depth = depth, random_state = 123)\n",
    "        model.fit(features_train, target_train)\n",
    "        predicted_valid = model.predict(features_valid)\n",
    "        max_f1 = 0\n",
    "        max_f1_est = 0\n",
    "        max_f1_depth = 0\n",
    "        if round(f1_score(predicted_valid, target_valid), 2)>0.59:\n",
    "            print(f'f1_score for random forest with depth {depth} and estimators = {est} = {round(f1_score(target_valid, predicted_valid), 3)}')\n",
    "            print(f'roc_auc_score for random forest with depth {depth} and estimators = {est} = {round(roc_auc_score(target_valid, predicted_valid), 3)}')\n",
    "            print('*'*60)\n",
    "        if f1_score(predicted_valid, target_valid) > max_f1:\n",
    "            max_f1 = f1_score(predicted_valid, target_valid)\n",
    "            max_f1_est = est\n",
    "            max_f1_depth = depth\n",
    "print(f'The best random forest model has f1_score = {round(max_f1, 3)} with {max_f1_est} estimators and {max_f1_depth} depth')"
   ]
  },
  {
   "cell_type": "markdown",
   "id": "020163d5",
   "metadata": {},
   "source": [
    "**Model testing**"
   ]
  },
  {
   "cell_type": "code",
   "execution_count": 36,
   "id": "c2982789",
   "metadata": {},
   "outputs": [
    {
     "name": "stdout",
     "output_type": "stream",
     "text": [
      "f1_score for test sample = 0.613\n",
      "roc_auc_score for test sample = 0.729\n"
     ]
    }
   ],
   "source": [
    "model = RandomForestClassifier(n_estimators = 30, max_depth = 9, random_state = 123)\n",
    "model.fit(features_train, target_train)\n",
    "predicted_test = model.predict(features_test)\n",
    "print(f'f1_score for test sample = {round(f1_score(predicted_test, target_test), 3)}')\n",
    "print(f'roc_auc_score for test sample = {round(roc_auc_score(predicted_test, target_test), 3)}')"
   ]
  },
  {
   "cell_type": "markdown",
   "id": "7352e31d",
   "metadata": {},
   "source": [
    "**The best model - RandomForest classifier with 30 estimators and max_depth = 9**"
   ]
  },
  {
   "cell_type": "code",
   "execution_count": null,
   "id": "857f1e16",
   "metadata": {},
   "outputs": [],
   "source": []
  }
 ],
 "metadata": {
  "kernelspec": {
   "display_name": "Python 3 (ipykernel)",
   "language": "python",
   "name": "python3"
  },
  "language_info": {
   "codemirror_mode": {
    "name": "ipython",
    "version": 3
   },
   "file_extension": ".py",
   "mimetype": "text/x-python",
   "name": "python",
   "nbconvert_exporter": "python",
   "pygments_lexer": "ipython3",
   "version": "3.9.15"
  },
  "toc": {
   "base_numbering": 1,
   "nav_menu": {},
   "number_sections": true,
   "sideBar": true,
   "skip_h1_title": false,
   "title_cell": "Table of Contents",
   "title_sidebar": "Contents",
   "toc_cell": false,
   "toc_position": {},
   "toc_section_display": true,
   "toc_window_display": false
  }
 },
 "nbformat": 4,
 "nbformat_minor": 5
}
